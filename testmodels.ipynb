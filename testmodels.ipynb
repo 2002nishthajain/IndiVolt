{
 "cells": [
  {
   "cell_type": "code",
   "execution_count": 1,
   "metadata": {},
   "outputs": [],
   "source": [
    "import pandas as pd\n",
    "import numpy as np"
   ]
  },
  {
   "cell_type": "code",
   "execution_count": 2,
   "metadata": {},
   "outputs": [],
   "source": [
    "#import the dataset\n",
    "df = pd.read_csv('data/energydata.csv')"
   ]
  },
  {
   "cell_type": "code",
   "execution_count": 3,
   "metadata": {},
   "outputs": [
    {
     "data": {
      "text/html": [
       "<div>\n",
       "<style scoped>\n",
       "    .dataframe tbody tr th:only-of-type {\n",
       "        vertical-align: middle;\n",
       "    }\n",
       "\n",
       "    .dataframe tbody tr th {\n",
       "        vertical-align: top;\n",
       "    }\n",
       "\n",
       "    .dataframe thead th {\n",
       "        text-align: right;\n",
       "    }\n",
       "</style>\n",
       "<table border=\"1\" class=\"dataframe\">\n",
       "  <thead>\n",
       "    <tr style=\"text-align: right;\">\n",
       "      <th></th>\n",
       "      <th>num_rooms</th>\n",
       "      <th>num_people</th>\n",
       "      <th>housearea</th>\n",
       "      <th>ac</th>\n",
       "      <th>tv</th>\n",
       "      <th>is_flat</th>\n",
       "      <th>ave_monthly_income</th>\n",
       "      <th>num_children</th>\n",
       "      <th>is_urban</th>\n",
       "      <th>amount_paid</th>\n",
       "      <th>AC_hours</th>\n",
       "      <th>TV_hours</th>\n",
       "    </tr>\n",
       "  </thead>\n",
       "  <tbody>\n",
       "    <tr>\n",
       "      <th>0</th>\n",
       "      <td>2</td>\n",
       "      <td>3</td>\n",
       "      <td>541.84</td>\n",
       "      <td>1</td>\n",
       "      <td>1</td>\n",
       "      <td>0</td>\n",
       "      <td>1220.02</td>\n",
       "      <td>2</td>\n",
       "      <td>1</td>\n",
       "      <td>748.344250</td>\n",
       "      <td>16.411058</td>\n",
       "      <td>246.165872</td>\n",
       "    </tr>\n",
       "    <tr>\n",
       "      <th>1</th>\n",
       "      <td>3</td>\n",
       "      <td>5</td>\n",
       "      <td>1084.52</td>\n",
       "      <td>2</td>\n",
       "      <td>1</td>\n",
       "      <td>0</td>\n",
       "      <td>1587.70</td>\n",
       "      <td>1</td>\n",
       "      <td>0</td>\n",
       "      <td>456.256871</td>\n",
       "      <td>5.002817</td>\n",
       "      <td>150.084497</td>\n",
       "    </tr>\n",
       "    <tr>\n",
       "      <th>2</th>\n",
       "      <td>1</td>\n",
       "      <td>5</td>\n",
       "      <td>584.85</td>\n",
       "      <td>0</td>\n",
       "      <td>0</td>\n",
       "      <td>0</td>\n",
       "      <td>2108.61</td>\n",
       "      <td>0</td>\n",
       "      <td>1</td>\n",
       "      <td>440.812450</td>\n",
       "      <td>0.000000</td>\n",
       "      <td>0.000000</td>\n",
       "    </tr>\n",
       "    <tr>\n",
       "      <th>3</th>\n",
       "      <td>2</td>\n",
       "      <td>5</td>\n",
       "      <td>716.73</td>\n",
       "      <td>1</td>\n",
       "      <td>1</td>\n",
       "      <td>1</td>\n",
       "      <td>2314.23</td>\n",
       "      <td>1</td>\n",
       "      <td>0</td>\n",
       "      <td>359.948497</td>\n",
       "      <td>7.893607</td>\n",
       "      <td>118.404111</td>\n",
       "    </tr>\n",
       "    <tr>\n",
       "      <th>4</th>\n",
       "      <td>1</td>\n",
       "      <td>6</td>\n",
       "      <td>889.06</td>\n",
       "      <td>0</td>\n",
       "      <td>0</td>\n",
       "      <td>1</td>\n",
       "      <td>3012.21</td>\n",
       "      <td>1</td>\n",
       "      <td>0</td>\n",
       "      <td>308.839294</td>\n",
       "      <td>0.000000</td>\n",
       "      <td>0.000000</td>\n",
       "    </tr>\n",
       "  </tbody>\n",
       "</table>\n",
       "</div>"
      ],
      "text/plain": [
       "   num_rooms  num_people  housearea  ac  tv  is_flat  ave_monthly_income  \\\n",
       "0          2           3     541.84   1   1        0             1220.02   \n",
       "1          3           5    1084.52   2   1        0             1587.70   \n",
       "2          1           5     584.85   0   0        0             2108.61   \n",
       "3          2           5     716.73   1   1        1             2314.23   \n",
       "4          1           6     889.06   0   0        1             3012.21   \n",
       "\n",
       "   num_children  is_urban  amount_paid   AC_hours    TV_hours  \n",
       "0             2         1   748.344250  16.411058  246.165872  \n",
       "1             1         0   456.256871   5.002817  150.084497  \n",
       "2             0         1   440.812450   0.000000    0.000000  \n",
       "3             1         0   359.948497   7.893607  118.404111  \n",
       "4             1         0   308.839294   0.000000    0.000000  "
      ]
     },
     "execution_count": 3,
     "metadata": {},
     "output_type": "execute_result"
    }
   ],
   "source": [
    "df.head()"
   ]
  },
  {
   "cell_type": "code",
   "execution_count": 4,
   "metadata": {},
   "outputs": [],
   "source": [
    "y = df['amount_paid']"
   ]
  },
  {
   "cell_type": "code",
   "execution_count": 5,
   "metadata": {},
   "outputs": [],
   "source": [
    "x = df.drop(['amount_paid'], axis=1)"
   ]
  },
  {
   "cell_type": "code",
   "execution_count": 6,
   "metadata": {},
   "outputs": [],
   "source": [
    "#convert to int x\n",
    "#x = x.astype(int)\n",
    "#y = y.astype(int)"
   ]
  },
  {
   "cell_type": "code",
   "execution_count": 7,
   "metadata": {},
   "outputs": [],
   "source": [
    "#train test split\n",
    "from sklearn.model_selection import train_test_split\n",
    "x_train, x_test, y_train, y_test = train_test_split(x,y, test_size = .2, random_state = 0)"
   ]
  },
  {
   "cell_type": "code",
   "execution_count": 8,
   "metadata": {},
   "outputs": [
    {
     "data": {
      "text/plain": [
       "5482.093672264775"
      ]
     },
     "execution_count": 8,
     "metadata": {},
     "output_type": "execute_result"
    }
   ],
   "source": [
    "#random forest regressor\n",
    "from sklearn.ensemble import RandomForestRegressor\n",
    "regressor = RandomForestRegressor(n_estimators = 100, random_state = 0)\n",
    "regressor.fit(x_train, y_train)\n",
    "y_pred = regressor.predict(x_test)\n",
    "#mean square error\n",
    "from sklearn.metrics import mean_squared_error\n",
    "mean_squared_error(y_test, y_pred)"
   ]
  },
  {
   "cell_type": "code",
   "execution_count": 11,
   "metadata": {},
   "outputs": [
    {
     "data": {
      "text/plain": [
       "['energydata.joblib']"
      ]
     },
     "execution_count": 11,
     "metadata": {},
     "output_type": "execute_result"
    }
   ],
   "source": [
    "import joblib\n",
    "#save in joblib format\n",
    "joblib.dump(regressor, 'energydata.joblib')\n"
   ]
  },
  {
   "cell_type": "code",
   "execution_count": 45,
   "metadata": {},
   "outputs": [
    {
     "data": {
      "text/plain": [
       "11491.499444601142"
      ]
     },
     "execution_count": 45,
     "metadata": {},
     "output_type": "execute_result"
    }
   ],
   "source": [
    "#decision tree regressor\n",
    "from sklearn.tree import DecisionTreeRegressor\n",
    "regressor = DecisionTreeRegressor(random_state = 0)\n",
    "regressor.fit(x_train, y_train)\n",
    "y_pred = regressor.predict(x_test)\n",
    "#mean square error\n",
    "from sklearn.metrics import mean_squared_error\n",
    "mean_squared_error(y_test, y_pred)\n",
    "\n"
   ]
  },
  {
   "cell_type": "code",
   "execution_count": 50,
   "metadata": {},
   "outputs": [
    {
     "data": {
      "text/plain": [
       "405378.27843571693"
      ]
     },
     "execution_count": 50,
     "metadata": {},
     "output_type": "execute_result"
    }
   ],
   "source": [
    "#gaussian process regressor\n",
    "from sklearn.gaussian_process import GaussianProcessRegressor\n",
    "regressor = GaussianProcessRegressor(random_state = 0)\n",
    "regressor.fit(x_train, y_train)\n",
    "y_pred = regressor.predict(x_test)\n",
    "#mean square error\n",
    "from sklearn.metrics import mean_squared_error\n",
    "mean_squared_error(y_test, y_pred)\n"
   ]
  },
  {
   "cell_type": "code",
   "execution_count": 51,
   "metadata": {},
   "outputs": [
    {
     "data": {
      "text/plain": [
       "10567.793776734801"
      ]
     },
     "execution_count": 51,
     "metadata": {},
     "output_type": "execute_result"
    }
   ],
   "source": [
    "#multi linear regressor\n",
    "from sklearn.linear_model import LinearRegression\n",
    "regressor = LinearRegression()\n",
    "regressor.fit(x_train, y_train)\n",
    "y_pred = regressor.predict(x_test)\n",
    "#mean square error\n",
    "from sklearn.metrics import mean_squared_error\n",
    "mean_squared_error(y_test, y_pred)\n"
   ]
  },
  {
   "cell_type": "code",
   "execution_count": 53,
   "metadata": {},
   "outputs": [
    {
     "data": {
      "text/plain": [
       "154427.37817261397"
      ]
     },
     "execution_count": 53,
     "metadata": {},
     "output_type": "execute_result"
    }
   ],
   "source": [
    "#RANSAC\n",
    "from sklearn.linear_model import RANSACRegressor\n",
    "regressor = RANSACRegressor(random_state = 0)\n",
    "regressor.fit(x_train, y_train)\n",
    "y_pred = regressor.predict(x_test)\n",
    "#mean square error\n",
    "from sklearn.metrics import mean_squared_error\n",
    "mean_squared_error(y_test, y_pred)\n"
   ]
  },
  {
   "cell_type": "code",
   "execution_count": 57,
   "metadata": {},
   "outputs": [
    {
     "data": {
      "text/plain": [
       "10567.793776734801"
      ]
     },
     "execution_count": 57,
     "metadata": {},
     "output_type": "execute_result"
    }
   ],
   "source": [
    "#linear regression\n",
    "from sklearn.linear_model import LinearRegression\n",
    "regressor = LinearRegression()\n",
    "regressor.fit(x_train, y_train)\n",
    "y_pred = regressor.predict(x_test)\n",
    "#mean square error\n",
    "from sklearn.metrics import mean_squared_error\n",
    "mean_squared_error(y_test, y_pred)\n"
   ]
  },
  {
   "cell_type": "code",
   "execution_count": 60,
   "metadata": {},
   "outputs": [
    {
     "name": "stdout",
     "output_type": "stream",
     "text": [
      "Epoch 1/100\n",
      "20/20 [==============================] - 1s 14ms/step - loss: 387298.0625 - val_loss: 399090.0000\n",
      "Epoch 2/100\n",
      "20/20 [==============================] - 0s 4ms/step - loss: 386359.6875 - val_loss: 398683.8125\n",
      "Epoch 3/100\n",
      "20/20 [==============================] - 0s 4ms/step - loss: 385963.0625 - val_loss: 398284.9688\n",
      "Epoch 4/100\n",
      "20/20 [==============================] - 0s 3ms/step - loss: 385469.0625 - val_loss: 397646.4375\n",
      "Epoch 5/100\n",
      "20/20 [==============================] - 0s 4ms/step - loss: 384958.1875 - val_loss: 397281.0625\n",
      "Epoch 6/100\n",
      "20/20 [==============================] - 0s 4ms/step - loss: 384598.8125 - val_loss: 396913.6562\n",
      "Epoch 7/100\n",
      "20/20 [==============================] - 0s 8ms/step - loss: 384239.9688 - val_loss: 396546.4375\n",
      "Epoch 8/100\n",
      "20/20 [==============================] - 0s 3ms/step - loss: 383880.5625 - val_loss: 396182.0312\n",
      "Epoch 9/100\n",
      "20/20 [==============================] - 0s 3ms/step - loss: 383523.0312 - val_loss: 395818.0938\n",
      "Epoch 10/100\n",
      "20/20 [==============================] - 0s 3ms/step - loss: 383165.0625 - val_loss: 395456.5000\n",
      "Epoch 11/100\n",
      "20/20 [==============================] - 0s 3ms/step - loss: 382809.4688 - val_loss: 395093.5000\n",
      "Epoch 12/100\n",
      "20/20 [==============================] - 0s 3ms/step - loss: 382453.8125 - val_loss: 394730.5625\n",
      "Epoch 13/100\n",
      "20/20 [==============================] - 0s 3ms/step - loss: 382097.9688 - val_loss: 394368.8125\n",
      "Epoch 14/100\n",
      "20/20 [==============================] - 0s 4ms/step - loss: 381743.0000 - val_loss: 394007.2812\n",
      "Epoch 15/100\n",
      "20/20 [==============================] - 0s 3ms/step - loss: 381387.9688 - val_loss: 393646.6875\n",
      "Epoch 16/100\n",
      "20/20 [==============================] - 0s 3ms/step - loss: 381034.9375 - val_loss: 393284.2188\n",
      "Epoch 17/100\n",
      "20/20 [==============================] - 0s 3ms/step - loss: 380680.1250 - val_loss: 392924.4062\n",
      "Epoch 18/100\n",
      "20/20 [==============================] - 0s 3ms/step - loss: 380326.6250 - val_loss: 392564.9062\n",
      "Epoch 19/100\n",
      "20/20 [==============================] - 0s 3ms/step - loss: 379973.7812 - val_loss: 392205.1875\n",
      "Epoch 20/100\n",
      "20/20 [==============================] - 0s 3ms/step - loss: 379619.2812 - val_loss: 391848.9375\n",
      "Epoch 21/100\n",
      "20/20 [==============================] - 0s 3ms/step - loss: 379268.4375 - val_loss: 391489.2812\n",
      "Epoch 22/100\n",
      "20/20 [==============================] - 0s 3ms/step - loss: 378916.0625 - val_loss: 391130.2500\n",
      "Epoch 23/100\n",
      "20/20 [==============================] - 0s 3ms/step - loss: 378563.4375 - val_loss: 390772.6875\n",
      "Epoch 24/100\n",
      "20/20 [==============================] - 0s 3ms/step - loss: 378213.5000 - val_loss: 390412.1875\n",
      "Epoch 25/100\n",
      "20/20 [==============================] - 0s 3ms/step - loss: 377859.9688 - val_loss: 390056.2500\n",
      "Epoch 26/100\n",
      "20/20 [==============================] - 0s 3ms/step - loss: 377510.3125 - val_loss: 389698.0938\n",
      "Epoch 27/100\n",
      "20/20 [==============================] - 0s 2ms/step - loss: 377158.1875 - val_loss: 389342.7500\n",
      "Epoch 28/100\n",
      "20/20 [==============================] - 0s 5ms/step - loss: 376809.5938 - val_loss: 388983.9062\n",
      "Epoch 29/100\n",
      "20/20 [==============================] - 0s 3ms/step - loss: 376458.2500 - val_loss: 388627.8125\n",
      "Epoch 30/100\n",
      "20/20 [==============================] - 0s 3ms/step - loss: 376109.0625 - val_loss: 388270.5625\n",
      "Epoch 31/100\n",
      "20/20 [==============================] - 0s 3ms/step - loss: 375758.1875 - val_loss: 387916.1875\n",
      "Epoch 32/100\n",
      "20/20 [==============================] - 0s 3ms/step - loss: 375409.8438 - val_loss: 387559.8438\n",
      "Epoch 33/100\n",
      "20/20 [==============================] - 0s 3ms/step - loss: 375060.5000 - val_loss: 387204.5625\n",
      "Epoch 34/100\n",
      "20/20 [==============================] - 0s 3ms/step - loss: 374711.4375 - val_loss: 386850.0000\n",
      "Epoch 35/100\n",
      "20/20 [==============================] - 0s 3ms/step - loss: 374363.8438 - val_loss: 386493.8125\n",
      "Epoch 36/100\n",
      "20/20 [==============================] - 0s 3ms/step - loss: 374014.0000 - val_loss: 386141.0938\n",
      "Epoch 37/100\n",
      "20/20 [==============================] - 0s 3ms/step - loss: 373668.1875 - val_loss: 385784.4375\n",
      "Epoch 38/100\n",
      "20/20 [==============================] - 0s 3ms/step - loss: 373318.2188 - val_loss: 385432.4062\n",
      "Epoch 39/100\n",
      "20/20 [==============================] - 0s 3ms/step - loss: 372972.0938 - val_loss: 385077.8750\n",
      "Epoch 40/100\n",
      "20/20 [==============================] - 0s 3ms/step - loss: 372624.6562 - val_loss: 384724.1875\n",
      "Epoch 41/100\n",
      "20/20 [==============================] - 0s 3ms/step - loss: 372277.4375 - val_loss: 384371.3125\n",
      "Epoch 42/100\n",
      "20/20 [==============================] - 0s 3ms/step - loss: 371931.1250 - val_loss: 384018.0000\n",
      "Epoch 43/100\n",
      "20/20 [==============================] - 0s 3ms/step - loss: 371583.3438 - val_loss: 383667.5625\n",
      "Epoch 44/100\n",
      "20/20 [==============================] - 0s 3ms/step - loss: 371239.4375 - val_loss: 383312.7500\n",
      "Epoch 45/100\n",
      "20/20 [==============================] - 0s 3ms/step - loss: 370891.4375 - val_loss: 382962.2812\n",
      "Epoch 46/100\n",
      "20/20 [==============================] - 0s 3ms/step - loss: 370547.6250 - val_loss: 382608.2500\n",
      "Epoch 47/100\n",
      "20/20 [==============================] - 0s 3ms/step - loss: 370201.5625 - val_loss: 382255.9688\n",
      "Epoch 48/100\n",
      "20/20 [==============================] - 0s 3ms/step - loss: 369855.4375 - val_loss: 381905.8125\n",
      "Epoch 49/100\n",
      "20/20 [==============================] - 0s 3ms/step - loss: 369510.9375 - val_loss: 381555.0938\n",
      "Epoch 50/100\n",
      "20/20 [==============================] - 0s 3ms/step - loss: 369167.1875 - val_loss: 381202.7500\n",
      "Epoch 51/100\n",
      "20/20 [==============================] - 0s 3ms/step - loss: 368822.1250 - val_loss: 380852.0312\n",
      "Epoch 52/100\n",
      "20/20 [==============================] - 0s 3ms/step - loss: 368478.0312 - val_loss: 380501.1875\n",
      "Epoch 53/100\n",
      "20/20 [==============================] - 0s 3ms/step - loss: 368133.2812 - val_loss: 380152.2500\n",
      "Epoch 54/100\n",
      "20/20 [==============================] - 0s 2ms/step - loss: 367791.0938 - val_loss: 379800.5625\n",
      "Epoch 55/100\n",
      "20/20 [==============================] - 0s 3ms/step - loss: 367446.8438 - val_loss: 379450.7188\n",
      "Epoch 56/100\n",
      "20/20 [==============================] - 0s 3ms/step - loss: 367103.6875 - val_loss: 379101.0938\n",
      "Epoch 57/100\n",
      "20/20 [==============================] - 0s 6ms/step - loss: 366759.7812 - val_loss: 378753.5625\n",
      "Epoch 58/100\n",
      "20/20 [==============================] - 0s 3ms/step - loss: 366418.8438 - val_loss: 378402.6875\n",
      "Epoch 59/100\n",
      "20/20 [==============================] - 0s 2ms/step - loss: 366075.0312 - val_loss: 378054.7188\n",
      "Epoch 60/100\n",
      "20/20 [==============================] - 0s 3ms/step - loss: 365733.5000 - val_loss: 377705.6562\n",
      "Epoch 61/100\n",
      "20/20 [==============================] - 0s 2ms/step - loss: 365391.2188 - val_loss: 377357.4375\n",
      "Epoch 62/100\n",
      "20/20 [==============================] - 0s 3ms/step - loss: 365049.4688 - val_loss: 377009.4375\n",
      "Epoch 63/100\n",
      "20/20 [==============================] - 0s 3ms/step - loss: 364707.6250 - val_loss: 376662.1562\n",
      "Epoch 64/100\n",
      "20/20 [==============================] - 0s 3ms/step - loss: 364367.1562 - val_loss: 376313.5938\n",
      "Epoch 65/100\n",
      "20/20 [==============================] - 0s 3ms/step - loss: 364026.4062 - val_loss: 375964.8125\n",
      "Epoch 66/100\n",
      "20/20 [==============================] - 0s 3ms/step - loss: 363683.5625 - val_loss: 375620.2500\n",
      "Epoch 67/100\n",
      "20/20 [==============================] - 0s 3ms/step - loss: 363345.4062 - val_loss: 375271.1875\n",
      "Epoch 68/100\n",
      "20/20 [==============================] - 0s 2ms/step - loss: 363002.8750 - val_loss: 374926.5938\n",
      "Epoch 69/100\n",
      "20/20 [==============================] - 0s 4ms/step - loss: 362664.3125 - val_loss: 374579.2812\n",
      "Epoch 70/100\n",
      "20/20 [==============================] - 0s 3ms/step - loss: 362323.6875 - val_loss: 374233.5938\n",
      "Epoch 71/100\n",
      "20/20 [==============================] - 0s 3ms/step - loss: 361984.8125 - val_loss: 373886.6875\n",
      "Epoch 72/100\n",
      "20/20 [==============================] - 0s 3ms/step - loss: 361644.0312 - val_loss: 373542.5938\n",
      "Epoch 73/100\n",
      "20/20 [==============================] - 0s 3ms/step - loss: 361305.5312 - val_loss: 373197.2500\n",
      "Epoch 74/100\n",
      "20/20 [==============================] - 0s 3ms/step - loss: 360967.2812 - val_loss: 372850.6562\n",
      "Epoch 75/100\n",
      "20/20 [==============================] - 0s 3ms/step - loss: 360627.3750 - val_loss: 372506.5625\n",
      "Epoch 76/100\n",
      "20/20 [==============================] - 0s 3ms/step - loss: 360289.3750 - val_loss: 372161.5938\n",
      "Epoch 77/100\n",
      "20/20 [==============================] - 0s 3ms/step - loss: 359950.3125 - val_loss: 371818.2188\n",
      "Epoch 78/100\n",
      "20/20 [==============================] - 0s 2ms/step - loss: 359613.0000 - val_loss: 371473.4688\n",
      "Epoch 79/100\n",
      "20/20 [==============================] - 0s 3ms/step - loss: 359275.8125 - val_loss: 371127.7500\n",
      "Epoch 80/100\n",
      "20/20 [==============================] - 0s 3ms/step - loss: 358938.1875 - val_loss: 370782.2500\n",
      "Epoch 81/100\n",
      "20/20 [==============================] - 0s 3ms/step - loss: 358598.9688 - val_loss: 370440.7812\n",
      "Epoch 82/100\n",
      "20/20 [==============================] - 0s 3ms/step - loss: 358262.4062 - val_loss: 370098.1875\n",
      "Epoch 83/100\n",
      "20/20 [==============================] - 0s 6ms/step - loss: 357926.8125 - val_loss: 369752.8750\n",
      "Epoch 84/100\n",
      "20/20 [==============================] - 0s 3ms/step - loss: 357589.3125 - val_loss: 369409.6875\n",
      "Epoch 85/100\n",
      "20/20 [==============================] - 0s 3ms/step - loss: 357251.9375 - val_loss: 369068.2500\n",
      "Epoch 86/100\n",
      "20/20 [==============================] - 0s 3ms/step - loss: 356916.4375 - val_loss: 368725.4375\n",
      "Epoch 87/100\n",
      "20/20 [==============================] - 0s 3ms/step - loss: 356580.3750 - val_loss: 368382.9375\n",
      "Epoch 88/100\n",
      "20/20 [==============================] - 0s 2ms/step - loss: 356244.5938 - val_loss: 368040.5000\n",
      "Epoch 89/100\n",
      "20/20 [==============================] - 0s 3ms/step - loss: 355908.6250 - val_loss: 367698.8750\n",
      "Epoch 90/100\n",
      "20/20 [==============================] - 0s 2ms/step - loss: 355573.2500 - val_loss: 367357.5312\n",
      "Epoch 91/100\n",
      "20/20 [==============================] - 0s 3ms/step - loss: 355237.9688 - val_loss: 367016.3125\n",
      "Epoch 92/100\n",
      "20/20 [==============================] - 0s 3ms/step - loss: 354903.0938 - val_loss: 366675.1875\n",
      "Epoch 93/100\n",
      "20/20 [==============================] - 0s 3ms/step - loss: 354568.4375 - val_loss: 366334.0625\n",
      "Epoch 94/100\n",
      "20/20 [==============================] - 0s 3ms/step - loss: 354234.5938 - val_loss: 365991.7500\n",
      "Epoch 95/100\n",
      "20/20 [==============================] - 0s 3ms/step - loss: 353898.9375 - val_loss: 365652.1875\n",
      "Epoch 96/100\n",
      "20/20 [==============================] - 0s 3ms/step - loss: 353565.2500 - val_loss: 365312.0625\n",
      "Epoch 97/100\n",
      "20/20 [==============================] - 0s 3ms/step - loss: 353231.3438 - val_loss: 364972.0938\n",
      "Epoch 98/100\n",
      "20/20 [==============================] - 0s 3ms/step - loss: 352898.6875 - val_loss: 364630.2500\n",
      "Epoch 99/100\n",
      "20/20 [==============================] - 0s 2ms/step - loss: 352563.0000 - val_loss: 364293.1562\n",
      "Epoch 100/100\n",
      "20/20 [==============================] - 0s 3ms/step - loss: 352231.0938 - val_loss: 363953.2500\n",
      "7/7 [==============================] - 0s 3ms/step - loss: 368911.6250\n"
     ]
    }
   ],
   "source": [
    "#using neural networks\n",
    "from keras.models import Sequential\n",
    "from keras.layers import Dense\n",
    "\n",
    "\n",
    "model = Sequential()\n",
    "model.add(Dense(64, input_dim=x_train.shape[1], activation='relu'))\n",
    "model.add(Dense(32, activation='sigmoid'))\n",
    "model.add(Dense(1, activation='relu'))\n",
    "\n",
    "# Compile the model and define the loss function and optimizer\n",
    "model.compile(loss='mean_squared_error', optimizer='adam')\n",
    "\n",
    "# Train the model on the training data\n",
    "model.fit(x_train, y_train, epochs=100, batch_size=32, validation_split=0.2)\n",
    "\n",
    "# Evaluate the model on the test data\n",
    "test_loss = model.evaluate(x_test, y_test)"
   ]
  },
  {
   "cell_type": "code",
   "execution_count": null,
   "metadata": {},
   "outputs": [],
   "source": []
  }
 ],
 "metadata": {
  "kernelspec": {
   "display_name": "base",
   "language": "python",
   "name": "python3"
  },
  "language_info": {
   "codemirror_mode": {
    "name": "ipython",
    "version": 3
   },
   "file_extension": ".py",
   "mimetype": "text/x-python",
   "name": "python",
   "nbconvert_exporter": "python",
   "pygments_lexer": "ipython3",
   "version": "3.8.5"
  },
  "orig_nbformat": 4
 },
 "nbformat": 4,
 "nbformat_minor": 2
}
